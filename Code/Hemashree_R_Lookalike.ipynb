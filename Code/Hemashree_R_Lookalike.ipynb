{
  "nbformat": 4,
  "nbformat_minor": 0,
  "metadata": {
    "colab": {
      "provenance": []
    },
    "kernelspec": {
      "name": "python3",
      "display_name": "Python 3"
    },
    "language_info": {
      "name": "python"
    }
  },
  "cells": [
    {
      "cell_type": "code",
      "execution_count": 1,
      "metadata": {
        "colab": {
          "base_uri": "https://localhost:8080/"
        },
        "id": "EiyY_MhLRAFH",
        "outputId": "4a4147a0-7330-4cf5-aa28-c92032522be2"
      },
      "outputs": [
        {
          "output_type": "stream",
          "name": "stdout",
          "text": [
            "  CustomerID        CustomerName         Region  SignupDate\n",
            "0      C0001    Lawrence Carroll  South America  2022-07-10\n",
            "1      C0002      Elizabeth Lutz           Asia  2022-02-13\n",
            "2      C0003      Michael Rivera  South America  2024-03-07\n",
            "3      C0004  Kathleen Rodriguez  South America  2022-10-09\n",
            "4      C0005         Laura Weber           Asia  2022-08-15\n",
            "  ProductID              ProductName     Category   Price\n",
            "0      P001     ActiveWear Biography        Books  169.30\n",
            "1      P002    ActiveWear Smartwatch  Electronics  346.30\n",
            "2      P003  ComfortLiving Biography        Books   44.12\n",
            "3      P004            BookWorld Rug   Home Decor   95.69\n",
            "4      P005          TechPro T-Shirt     Clothing  429.31\n",
            "  TransactionID CustomerID ProductID      TransactionDate  Quantity  \\\n",
            "0        T00001      C0199      P067  2024-08-25 12:38:23         1   \n",
            "1        T00112      C0146      P067  2024-05-27 22:23:54         1   \n",
            "2        T00166      C0127      P067  2024-04-25 07:38:55         1   \n",
            "3        T00272      C0087      P067  2024-03-26 22:55:37         2   \n",
            "4        T00363      C0070      P067  2024-03-21 15:10:10         3   \n",
            "\n",
            "   TotalValue   Price  \n",
            "0      300.68  300.68  \n",
            "1      300.68  300.68  \n",
            "2      300.68  300.68  \n",
            "3      601.36  300.68  \n",
            "4      902.04  300.68  \n"
          ]
        }
      ],
      "source": [
        "#Step 1: Import Libraries and Load Data\n",
        "\n",
        "import pandas as pd\n",
        "from sklearn.metrics.pairwise import cosine_similarity\n",
        "from sklearn.preprocessing import StandardScaler\n",
        "\n",
        "# Load datasets\n",
        "customers = pd.read_csv(\"Customers.csv\")\n",
        "products = pd.read_csv(\"Products.csv\")\n",
        "transactions = pd.read_csv(\"Transactions.csv\")\n",
        "\n",
        "# Preview the datasets\n",
        "print(customers.head())\n",
        "print(products.head())\n",
        "print(transactions.head())\n"
      ]
    },
    {
      "cell_type": "code",
      "source": [
        "#Step 2: Data Preparation\n",
        "\n",
        "# Merge Transactions with Products\n",
        "transactions = transactions.merge(products[['ProductID', 'Category']], on='ProductID', how='left')\n",
        "\n",
        "# Aggregate transaction features\n",
        "customer_features = transactions.groupby('CustomerID').agg({\n",
        "    'TotalValue': 'sum',\n",
        "    'Quantity': 'sum',\n",
        "    'Price': 'mean',\n",
        "    'Category': lambda x: x.value_counts().index[0]  # Most common category\n",
        "}).reset_index()\n",
        "\n",
        "# Merge with Customers dataset\n",
        "customers = customers.merge(customer_features, on='CustomerID', how='left')\n",
        "customers.fillna(0, inplace=True)  # Replace NaNs with 0 for missing transaction data\n",
        "\n",
        "print(customers.head())\n"
      ],
      "metadata": {
        "colab": {
          "base_uri": "https://localhost:8080/"
        },
        "id": "ruIGz6X2RfVg",
        "outputId": "031369e7-0ec8-418c-de09-37d4bd5408e6"
      },
      "execution_count": 2,
      "outputs": [
        {
          "output_type": "stream",
          "name": "stdout",
          "text": [
            "  CustomerID        CustomerName         Region  SignupDate  TotalValue  \\\n",
            "0      C0001    Lawrence Carroll  South America  2022-07-10     3354.52   \n",
            "1      C0002      Elizabeth Lutz           Asia  2022-02-13     1862.74   \n",
            "2      C0003      Michael Rivera  South America  2024-03-07     2725.38   \n",
            "3      C0004  Kathleen Rodriguez  South America  2022-10-09     5354.88   \n",
            "4      C0005         Laura Weber           Asia  2022-08-15     2034.24   \n",
            "\n",
            "   Quantity       Price     Category  \n",
            "0      12.0  278.334000  Electronics  \n",
            "1      10.0  208.920000   Home Decor  \n",
            "2      14.0  195.707500   Home Decor  \n",
            "3      23.0  240.636250        Books  \n",
            "4       7.0  291.603333  Electronics  \n"
          ]
        }
      ]
    },
    {
      "cell_type": "code",
      "source": [
        "#Step 3: Create Similarity Matrix\n",
        "\n",
        "# Select numerical features for similarity calculation\n",
        "numerical_features = ['TotalValue', 'Quantity', 'Price']\n",
        "scaler = StandardScaler()\n",
        "customers_scaled = scaler.fit_transform(customers[numerical_features])\n",
        "\n",
        "# Compute cosine similarity\n",
        "similarity_matrix = cosine_similarity(customers_scaled)\n",
        "\n",
        "# Convert to a DataFrame for easier handling\n",
        "similarity_df = pd.DataFrame(similarity_matrix, index=customers['CustomerID'], columns=customers['CustomerID'])\n",
        "\n",
        "print(similarity_df.head())\n"
      ],
      "metadata": {
        "colab": {
          "base_uri": "https://localhost:8080/"
        },
        "id": "p7CXMVvdRn80",
        "outputId": "403eba85-846c-4208-a438-575654a43e9c"
      },
      "execution_count": 3,
      "outputs": [
        {
          "output_type": "stream",
          "name": "stdout",
          "text": [
            "CustomerID     C0001     C0002     C0003     C0004     C0005     C0006  \\\n",
            "CustomerID                                                               \n",
            "C0001       1.000000 -0.007041 -0.631946 -0.859581  0.856884  0.535879   \n",
            "C0002      -0.007041  1.000000  0.778325 -0.488415  0.509339 -0.845597   \n",
            "C0003      -0.631946  0.778325  1.000000  0.165898 -0.142181 -0.992820   \n",
            "C0004      -0.859581 -0.488415  0.165898  1.000000 -0.989955 -0.052640   \n",
            "C0005       0.856884  0.509339 -0.142181 -0.989955  1.000000  0.024587   \n",
            "\n",
            "CustomerID     C0007     C0008     C0009     C0010  ...     C0191     C0192  \\\n",
            "CustomerID                                          ...                       \n",
            "C0001       0.984218 -0.945042  0.823996 -0.382075  ...  0.931258  0.819770   \n",
            "C0002      -0.114098 -0.243549  0.560490  0.926798  ...  0.339062  0.562188   \n",
            "C0003      -0.699051  0.412339 -0.081705  0.956619  ... -0.316225 -0.075445   \n",
            "C0004      -0.774871  0.963187 -0.985980 -0.128577  ... -0.956532 -0.976055   \n",
            "C0005       0.789714 -0.936372  0.998139  0.148886  ...  0.977412  0.996001   \n",
            "\n",
            "CustomerID     C0193     C0194     C0195     C0196     C0197     C0198  \\\n",
            "CustomerID                                                               \n",
            "C0001       0.519164 -0.959641 -0.989535  0.534111  0.217281  0.564201   \n",
            "C0002       0.840120 -0.001802 -0.117021 -0.848580  0.973861  0.812735   \n",
            "C0003       0.319268  0.588118  0.532448 -0.990051  0.616027  0.270482   \n",
            "C0004      -0.881022  0.792891  0.921409 -0.037342 -0.673837 -0.904422   \n",
            "C0005       0.878210 -0.829883 -0.910988  0.022604  0.688484  0.903020   \n",
            "\n",
            "CustomerID     C0199     C0200  \n",
            "CustomerID                      \n",
            "C0001       0.452488 -0.354661  \n",
            "C0002       0.887225 -0.932475  \n",
            "C0003       0.405185 -0.499480  \n",
            "C0004      -0.822957  0.767135  \n",
            "C0005       0.847197 -0.785792  \n",
            "\n",
            "[5 rows x 200 columns]\n"
          ]
        }
      ]
    },
    {
      "cell_type": "code",
      "source": [
        "#Step 4: Find Top 3 Lookalikes\n",
        "\n",
        "\n",
        "# Define a function to get the top N similar customers\n",
        "def get_top_lookalikes(customer_id, similarity_df, top_n=3):\n",
        "    \"\"\"\n",
        "    Get top N similar customers for a given customer ID.\n",
        "\n",
        "    Parameters:\n",
        "        customer_id (str): The ID of the customer to find similar customers for.\n",
        "        similarity_df (DataFrame): Pairwise similarity DataFrame.\n",
        "        top_n (int): Number of similar customers to return.\n",
        "\n",
        "    Returns:\n",
        "        List of tuples containing similar customer IDs and similarity scores.\n",
        "    \"\"\"\n",
        "    # Sort similarities in descending order, excluding the customer itself\n",
        "    similar_customers = similarity_df[customer_id].sort_values(ascending=False)[1:top_n+1]\n",
        "    return list(zip(similar_customers.index, similar_customers.values))\n",
        "\n",
        "# Generate lookalike recommendations for the first 20 customers\n",
        "lookalikes = {}\n",
        "for customer_id in customers['CustomerID'][:20]:  # First 20 customers\n",
        "    lookalikes[customer_id] = get_top_lookalikes(customer_id, similarity_df)\n",
        "\n",
        "# Save results to Lookalike.csv\n",
        "lookalike_list = []\n",
        "for cust_id, similar_list in lookalikes.items():\n",
        "    for similar_cust_id, score in similar_list:\n",
        "        lookalike_list.append([cust_id, similar_cust_id, round(score, 4)])\n",
        "\n",
        "lookalike_df = pd.DataFrame(lookalike_list, columns=['cust_id', 'similar_cust_id', 'similarity_score'])\n",
        "lookalike_df.to_csv(\"Lookalike.csv\", index=False)\n",
        "print(\"Lookalike.csv has been generated successfully!\")\n",
        "\n"
      ],
      "metadata": {
        "colab": {
          "base_uri": "https://localhost:8080/"
        },
        "id": "00RUQSMwRvCA",
        "outputId": "b2ce1473-1d09-4034-c4f7-7b22445345f2"
      },
      "execution_count": 5,
      "outputs": [
        {
          "output_type": "stream",
          "name": "stdout",
          "text": [
            "Lookalike.csv has been generated successfully!\n"
          ]
        }
      ]
    },
    {
      "cell_type": "code",
      "source": [
        "#Step 5: Evaluate the Model\n",
        "\n",
        "\n",
        "# Evaluation: Compare features between customers and their top lookalikes\n",
        "def evaluate_lookalikes(lookalike_df, customers, features):\n",
        "    \"\"\"\n",
        "    Evaluate the lookalike model by comparing key features of customers and their lookalikes.\n",
        "\n",
        "    Parameters:\n",
        "        lookalike_df (DataFrame): Lookalike mapping with cust_id, similar_cust_id, and similarity_score.\n",
        "        customers (DataFrame): Customer dataset with features.\n",
        "        features (list): List of features to compare.\n",
        "\n",
        "    Returns:\n",
        "        DataFrame: Summary of feature differences between customers and their lookalikes.\n",
        "    \"\"\"\n",
        "    evaluations = []\n",
        "    for _, row in lookalike_df.iterrows():\n",
        "        cust_id = row['cust_id']\n",
        "        similar_cust_id = row['similar_cust_id']\n",
        "\n",
        "        # Extract feature values\n",
        "        customer_features = customers[customers['CustomerID'] == cust_id][features].values.flatten()\n",
        "        similar_features = customers[customers['CustomerID'] == similar_cust_id][features].values.flatten()\n",
        "\n",
        "        # Calculate feature differences\n",
        "        feature_differences = abs(customer_features - similar_features)\n",
        "\n",
        "        # Store results\n",
        "        evaluations.append({\n",
        "            'cust_id': cust_id,\n",
        "            'similar_cust_id': similar_cust_id,\n",
        "            'similarity_score': row['similarity_score'],\n",
        "            'avg_feature_difference': round(feature_differences.mean(), 4)\n",
        "        })\n",
        "\n",
        "    return pd.DataFrame(evaluations)\n",
        "\n",
        "# Define features to compare\n",
        "comparison_features = ['TotalValue', 'Quantity', 'Price']  # Use transaction-based features for evaluation\n",
        "evaluation_results = evaluate_lookalikes(lookalike_df, customers, comparison_features)\n",
        "\n",
        "# Display evaluation results\n",
        "print(\"Evaluation Summary:\")\n",
        "print(evaluation_results.head())\n",
        "\n",
        "# Save evaluation results to CSV\n",
        "evaluation_results.to_csv(\"Lookalike_Evaluation.csv\", index=False)\n",
        "print(\"Lookalike_Evaluation.csv has been generated successfully!\")\n"
      ],
      "metadata": {
        "colab": {
          "base_uri": "https://localhost:8080/"
        },
        "id": "kt1S1fkbTK7o",
        "outputId": "33d74334-4d95-47f7-9159-7fd38a1cf87b"
      },
      "execution_count": 6,
      "outputs": [
        {
          "output_type": "stream",
          "name": "stdout",
          "text": [
            "Evaluation Summary:\n",
            "  cust_id similar_cust_id  similarity_score  avg_feature_difference\n",
            "0   C0001           C0135            0.9989                 81.0120\n",
            "1   C0001           C0092            0.9985                120.8995\n",
            "2   C0001           C0085            0.9957                277.7687\n",
            "3   C0002           C0029            0.9999                 25.9908\n",
            "4   C0002           C0077            0.9959                355.5644\n",
            "Lookalike_Evaluation.csv has been generated successfully!\n"
          ]
        }
      ]
    }
  ]
}